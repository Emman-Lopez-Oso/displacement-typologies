{
 "cells": [
  {
   "cell_type": "markdown",
   "metadata": {},
   "source": [
    "### Import packages"
   ]
  },
  {
   "cell_type": "code",
   "execution_count": 1,
   "metadata": {},
   "outputs": [],
   "source": [
    "import pandas as pd\n",
    "import numpy as np\n",
    "import merging_functions as mf ### this package included part of the code that are repeated\n",
    "                                 # throughout to make it more efficient\n",
    "import matplotlib.pyplot as plt"
   ]
  },
  {
   "cell_type": "markdown",
   "metadata": {},
   "source": [
    "### Define city and work folder"
   ]
  },
  {
   "cell_type": "code",
   "execution_count": 2,
   "metadata": {},
   "outputs": [],
   "source": [
    "city='Chicago'\n",
    "\n",
    "FIPS = [17031, 17043, 17089, 17093, 17097, 17111, 17197]\n",
    "\n",
    "folder = 'Input_Files/'+city+'/'\n",
    "out_folder = 'Output/'"
   ]
  },
  {
   "cell_type": "markdown",
   "metadata": {},
   "source": [
    "### Load neighborhood income level data"
   ]
  },
  {
   "cell_type": "code",
   "execution_count": 9,
   "metadata": {},
   "outputs": [
    {
     "name": "stdout",
     "output_type": "stream",
     "text": [
      "['17031', '17043', '17089', '17093', '17097', '17111', '17197']\n"
     ]
    },
    {
     "data": {
      "text/html": [
       "<div>\n",
       "<style scoped>\n",
       "    .dataframe tbody tr th:only-of-type {\n",
       "        vertical-align: middle;\n",
       "    }\n",
       "\n",
       "    .dataframe tbody tr th {\n",
       "        vertical-align: top;\n",
       "    }\n",
       "\n",
       "    .dataframe thead th {\n",
       "        text-align: right;\n",
       "    }\n",
       "</style>\n",
       "<table border=\"1\" class=\"dataframe\">\n",
       "  <thead>\n",
       "    <tr style=\"text-align: right;\">\n",
       "      <th></th>\n",
       "      <th>FIPS</th>\n",
       "      <th>reg_med_inc60_17</th>\n",
       "      <th>reg_med_inc120_17</th>\n",
       "      <th>reg_med_inc80_17</th>\n",
       "      <th>low_pdmt_80120</th>\n",
       "      <th>mod_pdmt_80120</th>\n",
       "      <th>high_pdmt_80120</th>\n",
       "      <th>low_pdmt_55cut_80120_medhhinc</th>\n",
       "      <th>high_pdmt_55cut_80120_medhhinc</th>\n",
       "      <th>mod_pdmt_55cut_80120_medhhinc</th>\n",
       "      <th>mix_low_55cut_80120_medhhinc</th>\n",
       "      <th>mix_mod_55cut_80120_medhhinc</th>\n",
       "      <th>mix_high_55cut_80120_medhhinc</th>\n",
       "      <th>inc_cat_55cut_80120_medhhinc</th>\n",
       "    </tr>\n",
       "  </thead>\n",
       "  <tbody>\n",
       "    <tr>\n",
       "      <th>0</th>\n",
       "      <td>17031010100</td>\n",
       "      <td>38362.800781</td>\n",
       "      <td>76725.601562</td>\n",
       "      <td>51150.398438</td>\n",
       "      <td>1.0</td>\n",
       "      <td>0.0</td>\n",
       "      <td>0.0</td>\n",
       "      <td>1.0</td>\n",
       "      <td>0.0</td>\n",
       "      <td>0.0</td>\n",
       "      <td>0.0</td>\n",
       "      <td>0.0</td>\n",
       "      <td>0.0</td>\n",
       "      <td>1.0</td>\n",
       "    </tr>\n",
       "    <tr>\n",
       "      <th>1</th>\n",
       "      <td>17031010201</td>\n",
       "      <td>38362.800781</td>\n",
       "      <td>76725.601562</td>\n",
       "      <td>51150.398438</td>\n",
       "      <td>1.0</td>\n",
       "      <td>0.0</td>\n",
       "      <td>0.0</td>\n",
       "      <td>1.0</td>\n",
       "      <td>0.0</td>\n",
       "      <td>0.0</td>\n",
       "      <td>0.0</td>\n",
       "      <td>0.0</td>\n",
       "      <td>0.0</td>\n",
       "      <td>1.0</td>\n",
       "    </tr>\n",
       "    <tr>\n",
       "      <th>2</th>\n",
       "      <td>17031010202</td>\n",
       "      <td>38362.800781</td>\n",
       "      <td>76725.601562</td>\n",
       "      <td>51150.398438</td>\n",
       "      <td>1.0</td>\n",
       "      <td>0.0</td>\n",
       "      <td>0.0</td>\n",
       "      <td>1.0</td>\n",
       "      <td>0.0</td>\n",
       "      <td>0.0</td>\n",
       "      <td>0.0</td>\n",
       "      <td>0.0</td>\n",
       "      <td>0.0</td>\n",
       "      <td>1.0</td>\n",
       "    </tr>\n",
       "    <tr>\n",
       "      <th>3</th>\n",
       "      <td>17031010300</td>\n",
       "      <td>38362.800781</td>\n",
       "      <td>76725.601562</td>\n",
       "      <td>51150.398438</td>\n",
       "      <td>1.0</td>\n",
       "      <td>0.0</td>\n",
       "      <td>0.0</td>\n",
       "      <td>1.0</td>\n",
       "      <td>0.0</td>\n",
       "      <td>0.0</td>\n",
       "      <td>0.0</td>\n",
       "      <td>0.0</td>\n",
       "      <td>0.0</td>\n",
       "      <td>1.0</td>\n",
       "    </tr>\n",
       "    <tr>\n",
       "      <th>4</th>\n",
       "      <td>17031010400</td>\n",
       "      <td>38362.800781</td>\n",
       "      <td>76725.601562</td>\n",
       "      <td>51150.398438</td>\n",
       "      <td>1.0</td>\n",
       "      <td>0.0</td>\n",
       "      <td>0.0</td>\n",
       "      <td>1.0</td>\n",
       "      <td>0.0</td>\n",
       "      <td>0.0</td>\n",
       "      <td>0.0</td>\n",
       "      <td>0.0</td>\n",
       "      <td>0.0</td>\n",
       "      <td>1.0</td>\n",
       "    </tr>\n",
       "  </tbody>\n",
       "</table>\n",
       "</div>"
      ],
      "text/plain": [
       "          FIPS  reg_med_inc60_17  reg_med_inc120_17  reg_med_inc80_17  \\\n",
       "0  17031010100      38362.800781       76725.601562      51150.398438   \n",
       "1  17031010201      38362.800781       76725.601562      51150.398438   \n",
       "2  17031010202      38362.800781       76725.601562      51150.398438   \n",
       "3  17031010300      38362.800781       76725.601562      51150.398438   \n",
       "4  17031010400      38362.800781       76725.601562      51150.398438   \n",
       "\n",
       "   low_pdmt_80120  mod_pdmt_80120  high_pdmt_80120  \\\n",
       "0             1.0             0.0              0.0   \n",
       "1             1.0             0.0              0.0   \n",
       "2             1.0             0.0              0.0   \n",
       "3             1.0             0.0              0.0   \n",
       "4             1.0             0.0              0.0   \n",
       "\n",
       "   low_pdmt_55cut_80120_medhhinc  high_pdmt_55cut_80120_medhhinc  \\\n",
       "0                            1.0                             0.0   \n",
       "1                            1.0                             0.0   \n",
       "2                            1.0                             0.0   \n",
       "3                            1.0                             0.0   \n",
       "4                            1.0                             0.0   \n",
       "\n",
       "   mod_pdmt_55cut_80120_medhhinc  mix_low_55cut_80120_medhhinc  \\\n",
       "0                            0.0                           0.0   \n",
       "1                            0.0                           0.0   \n",
       "2                            0.0                           0.0   \n",
       "3                            0.0                           0.0   \n",
       "4                            0.0                           0.0   \n",
       "\n",
       "   mix_mod_55cut_80120_medhhinc  mix_high_55cut_80120_medhhinc  \\\n",
       "0                           0.0                            0.0   \n",
       "1                           0.0                            0.0   \n",
       "2                           0.0                            0.0   \n",
       "3                           0.0                            0.0   \n",
       "4                           0.0                            0.0   \n",
       "\n",
       "   inc_cat_55cut_80120_medhhinc  \n",
       "0                           1.0  \n",
       "1                           1.0  \n",
       "2                           1.0  \n",
       "3                           1.0  \n",
       "4                           1.0  "
      ]
     },
     "execution_count": 9,
     "metadata": {},
     "output_type": "execute_result"
    }
   ],
   "source": [
    "### Load file\n",
    "raw_neigh_income=pd.read_stata(folder+'neighb_inc_level_053119.dta')\n",
    "\n",
    "# ## Rename trtid10 to FIPS and reformat number\n",
    "raw_neigh_income = raw_neigh_income.rename(columns = {'stctytrct':'trtid10'})\n",
    "neigh_income = mf.trtid10_to_FIPS(raw_neigh_income)\n",
    "\n",
    "### Keep only records for the census tracts defined in FIPS variable\n",
    "neigh_income['FIPS_temp']=neigh_income['FIPS'].str[0:5]\n",
    "str_FIPS=[str(i) for i in FIPS]\n",
    "print(str_FIPS)\n",
    "neigh_income = neigh_income[neigh_income['FIPS_temp'].isin(str_FIPS)].reset_index(drop=True)\n",
    "neigh_income = neigh_income.drop(columns='FIPS_temp')\n",
    "\n",
    "### Keep only relevant columns\n",
    "neigh_income = neigh_income[['FIPS', 'reg_med_inc60_17', 'reg_med_inc120_17', 'reg_med_inc80_17',\n",
    "                             'low_pdmt_80120', 'mod_pdmt_80120', 'high_pdmt_80120', 'low_pdmt_55cut_80120_medhhinc',\n",
    "                             'high_pdmt_55cut_80120_medhhinc', 'mod_pdmt_55cut_80120_medhhinc',\n",
    "                             'mix_low_55cut_80120_medhhinc', 'mix_mod_55cut_80120_medhhinc',\n",
    "                             'mix_high_55cut_80120_medhhinc', 'inc_cat_55cut_80120_medhhinc']]\n",
    "\n",
    "neigh_income.head() ### should be converted to dummies, but this should be changed from the variable definition"
   ]
  },
  {
   "cell_type": "markdown",
   "metadata": {},
   "source": [
    "##### The Stata code uses the file Chicago_merge_0805aff_approach.dta as a base merging file. However, the file available is already the output of the merge data. As a base input file, the shp file with the census tract of the region of interest will be used."
   ]
  },
  {
   "cell_type": "code",
   "execution_count": 10,
   "metadata": {},
   "outputs": [
    {
     "name": "stdout",
     "output_type": "stream",
     "text": [
      "The counties included in this shp are: ['001' '011' '019' '029' '031' '037' '043' '049' '057' '061' '077' '083'\n",
      " '089' '091' '095' '097' '099' '111' '113' '115' '119' '125' '137' '143'\n",
      " '157' '161' '163' '167' '179' '183' '195' '197' '201' '045' '063' '073'\n",
      " '081' '007' '015' '021' '025' '103' '107' '117' '121' '127' '135' '145'\n",
      " '159' '173' '177' '185' '191' '199' '033' '017' '187' '189' '105' '051'\n",
      " '003' '005' '023' '027' '153' '047' '053' '055' '101' '109' '059' '171'\n",
      " '065' '071' '075' '165' '181' '079' '085' '087' '123' '035' '039' '129'\n",
      " '131' '133' '041' '141' '093' '193' '147' '149' '151' '203' '067' '069'\n",
      " '013' '169' '155' '139' '175' '009']\n",
      "The only counties that are considered are: ['17031', '17043', '17089', '17093', '17097', '17111', '17197']\n",
      "The columns included in the original file are: ['STATEFP', 'COUNTYFP', 'TRACTCE', 'AFFGEOID', 'GEOID', 'NAME', 'LSAD', 'ALAND', 'AWATER', 'geometry']\n",
      "There are 1983 census tracts in this city\n"
     ]
    },
    {
     "data": {
      "text/html": [
       "<div>\n",
       "<style scoped>\n",
       "    .dataframe tbody tr th:only-of-type {\n",
       "        vertical-align: middle;\n",
       "    }\n",
       "\n",
       "    .dataframe tbody tr th {\n",
       "        vertical-align: top;\n",
       "    }\n",
       "\n",
       "    .dataframe thead th {\n",
       "        text-align: right;\n",
       "    }\n",
       "</style>\n",
       "<table border=\"1\" class=\"dataframe\">\n",
       "  <thead>\n",
       "    <tr style=\"text-align: right;\">\n",
       "      <th></th>\n",
       "      <th>FIPS</th>\n",
       "      <th>COUNTYFP</th>\n",
       "      <th>geometry</th>\n",
       "    </tr>\n",
       "  </thead>\n",
       "  <tbody>\n",
       "    <tr>\n",
       "      <th>0</th>\n",
       "      <td>17031010201</td>\n",
       "      <td>031</td>\n",
       "      <td>POLYGON ((-87.684653 42.019485, -87.680448 42....</td>\n",
       "    </tr>\n",
       "    <tr>\n",
       "      <th>1</th>\n",
       "      <td>17031030200</td>\n",
       "      <td>031</td>\n",
       "      <td>POLYGON ((-87.67062299999999 41.998075, -87.66...</td>\n",
       "    </tr>\n",
       "    <tr>\n",
       "      <th>2</th>\n",
       "      <td>17031031700</td>\n",
       "      <td>031</td>\n",
       "      <td>POLYGON ((-87.667497 41.9689, -87.666198999999...</td>\n",
       "    </tr>\n",
       "    <tr>\n",
       "      <th>3</th>\n",
       "      <td>17031031900</td>\n",
       "      <td>031</td>\n",
       "      <td>POLYGON ((-87.67407799999999 41.965169, -87.66...</td>\n",
       "    </tr>\n",
       "    <tr>\n",
       "      <th>4</th>\n",
       "      <td>17031050200</td>\n",
       "      <td>031</td>\n",
       "      <td>POLYGON ((-87.688683 41.961313, -87.68383 41.9...</td>\n",
       "    </tr>\n",
       "  </tbody>\n",
       "</table>\n",
       "</div>"
      ],
      "text/plain": [
       "          FIPS COUNTYFP                                           geometry\n",
       "0  17031010201      031  POLYGON ((-87.684653 42.019485, -87.680448 42....\n",
       "1  17031030200      031  POLYGON ((-87.67062299999999 41.998075, -87.66...\n",
       "2  17031031700      031  POLYGON ((-87.667497 41.9689, -87.666198999999...\n",
       "3  17031031900      031  POLYGON ((-87.67407799999999 41.965169, -87.66...\n",
       "4  17031050200      031  POLYGON ((-87.688683 41.961313, -87.68383 41.9..."
      ]
     },
     "execution_count": 10,
     "metadata": {},
     "output_type": "execute_result"
    }
   ],
   "source": [
    "import geopandas as gpd\n",
    "city_shp = gpd.read_file(folder+'shp/cb_2017_17_tract_500k.shp')\n",
    "print('The counties included in this shp are:', str(city_shp['COUNTYFP'].unique()))\n",
    "\n",
    "### Keep only records for the census tracts defined in FIPS variable\n",
    "city_shp['FIPS_temp']=str(17)+city_shp['COUNTYFP'].str[0:5]\n",
    "str_FIPS=[str(i) for i in FIPS]\n",
    "print('The only counties that are considered are:', str_FIPS)\n",
    "city_shp = city_shp[city_shp['FIPS_temp'].isin(str_FIPS)].reset_index(drop=True)\n",
    "city_shp = city_shp.drop(columns='FIPS_temp')\n",
    "\n",
    "### Keep only the ID and the geometry type\n",
    "print('The columns included in the original file are:', list(city_shp.columns))\n",
    "city_shp = city_shp[['GEOID', 'COUNTYFP', 'geometry']]\n",
    "city_shp = city_shp.rename(columns={'GEOID':'FIPS'})\n",
    "print ('There are '+str(len(city_shp))+' census tracts in this city')\n",
    "city_shp.head()"
   ]
  },
  {
   "cell_type": "markdown",
   "metadata": {},
   "source": [
    "#### Neighborhood income\n",
    "This includes 55% cut off for AMI predominance & 80-120 AMI cut offs"
   ]
  },
  {
   "cell_type": "code",
   "execution_count": 13,
   "metadata": {},
   "outputs": [],
   "source": [
    "city_shp = city_shp.merge(neigh_income, on = 'FIPS', how = 'left')\n",
    "# len(city_shp_merge)"
   ]
  },
  {
   "cell_type": "markdown",
   "metadata": {},
   "source": [
    "## Methodology changes - New Approach"
   ]
  },
  {
   "cell_type": "markdown",
   "metadata": {},
   "source": [
    "#### Income breakdowns for year 2000"
   ]
  },
  {
   "cell_type": "code",
   "execution_count": 19,
   "metadata": {},
   "outputs": [
    {
     "data": {
      "text/plain": [
       "Index(['FIPS', 'NAME', 'QName', 'NATION', 'STATE', 'COUNTY', 'CT', 'T090_001',\n",
       "       'T090_002', 'T090_003', 'T090_004', 'T090_005', 'T090_006', 'T090_007',\n",
       "       'T090_008', 'T090_009', 'T090_010', 'T090_011', 'T090_012', 'T090_013',\n",
       "       'T090_014', 'T090_015', 'T090_016', 'T090_017', 'AREALAND', 'AREAWATR',\n",
       "       'SUMLEV', 'GEOCOMP', 'REGION', 'DIVISION', 'countymedian_income00',\n",
       "       '_merge'],\n",
       "      dtype='object')"
      ]
     },
     "execution_count": 19,
     "metadata": {},
     "output_type": "execute_result"
    }
   ],
   "source": [
    "raw_income_group = pd.read_stata(folder + '2000_Incomegroups.dta')\n",
    "raw_income_group.columns\n",
    "\n",
    "### Not going to use the countymedian_income. Will ue region median income instead.\n",
    "### This value is provided in \"inc_groups_hh by income_testing cutoffs_053119\"\n",
    "### Madeline defined RMI for 2017, but not for 2000 - how did she do it?"
   ]
  },
  {
   "cell_type": "code",
   "execution_count": 20,
   "metadata": {},
   "outputs": [
    {
     "name": "stdout",
     "output_type": "stream",
     "text": [
      "['17031', '17043', '17089', '17093', '17097', '17111', '17197']\n"
     ]
    },
    {
     "data": {
      "text/plain": [
       "Index(['FIPS', 'NAME', 'QName', 'NATION', 'STATE', 'COUNTY', 'CT',\n",
       "       'denominator_00', 'I_10000', 'I_15000', 'I_20000', 'I_25000', 'I_30000',\n",
       "       'I_35000', 'I_40000', 'I_45000', 'I_50000', 'I_60000', 'I_75000',\n",
       "       'I_100000', 'I_125000', 'I_150000', 'I_200000', 'I_201',\n",
       "       'countymedian_income00', 'med_inc'],\n",
       "      dtype='object')"
      ]
     },
     "execution_count": 20,
     "metadata": {},
     "output_type": "execute_result"
    }
   ],
   "source": [
    "### This is supposed to contain HH income for 2017, but it only has 2016 data\n",
    "### Apparently it doesn't matter bc I only care about 2000 data? This is weird\n",
    "raw_income_region = pd.read_stata(folder + 'hhinc_singleregion.dta')\n",
    "\n",
    "### Rename trtid10 to FIPS and reformat number\n",
    "income_region = mf.trtid10_to_FIPS(raw_income_region)\n",
    "\n",
    "### Keep only relevant columns\n",
    "income_region = income_region[['FIPS', 'hinc_00']]\n",
    "\n",
    "### Keep only records for the census tracts defined in FIPS variable\n",
    "income_region['FIPS_temp']=income_region['FIPS'].str[0:5]\n",
    "str_FIPS=[str(i) for i in FIPS]\n",
    "print(str_FIPS)\n",
    "income_region = income_region[income_region['FIPS_temp'].isin(str_FIPS)].reset_index(drop=True)\n",
    "income_region = income_region.drop(columns='FIPS_temp')\n",
    "\n",
    "### Following the code\n",
    "income_group = raw_income_group.drop(columns = ['_merge'])\n",
    "income_group = income_group.merge(income_region, on = 'FIPS', how = 'left')\n",
    "\n",
    "### Keep only relevant columns\n",
    "income_group = income_group.drop(columns = ['AREALAND', 'AREAWATR', 'SUMLEV', 'GEOCOMP', 'REGION', 'DIVISION'])\n",
    "\n",
    "### Rename variables\n",
    "income_group = income_group.rename(columns = {'hinc_00':'med_inc',\n",
    "                                              'T090_001':'denominator_00', ### What is this number? - Total HH?\n",
    "                                              'T090_002':'I_10000',\n",
    "                                              'T090_003':'I_15000',\n",
    "                                              'T090_004':'I_20000',\n",
    "                                              'T090_005':'I_25000',\n",
    "                                              'T090_006':'I_30000',\n",
    "                                              'T090_007':'I_35000',\n",
    "                                              'T090_008':'I_40000',\n",
    "                                              'T090_009':'I_45000',\n",
    "                                              'T090_010':'I_50000',\n",
    "                                              'T090_011':'I_60000',\n",
    "                                              'T090_012':'I_75000',\n",
    "                                              'T090_013':'I_100000',\n",
    "                                              'T090_014':'I_125000',\n",
    "                                              'T090_015':'I_150000',\n",
    "                                              'T090_016':'I_200000',\n",
    "                                              'T090_017':'I_201'})\n",
    "income_group.columns"
   ]
  },
  {
   "cell_type": "markdown",
   "metadata": {},
   "source": [
    "#### Determining AMI - Look at other code"
   ]
  },
  {
   "cell_type": "code",
   "execution_count": 21,
   "metadata": {},
   "outputs": [],
   "source": [
    "# ****** DETERMINING AMI *********\n",
    "# * issue - how do I assign AMI - use Madeline's median of median method (mentioned in Neighb income read.me)\n",
    "# * accidentally deleted a file from Neighb Income Level Archive file while looking for median-of-tract-medians method\n",
    "# * intended to run my own median-of-medians method to determine 2000 AMI >> Do file to be found in:\n",
    "# \t* Typologies > Master Datasets > Updated Typologies Summer 2019 ///\n",
    "# \t\t* > Accessory Typology Processing> Regional AMIs - Median of Medians Method\n",
    "\n",
    "# *Kamene definition: Atlanta - $ 51,760.11\n",
    "# *Kamene definition: Chicago - $ 42,917\n",
    "# *Kamene definition: Denver - $ 65,785.05\n",
    "# *Kamene definition: Memphis - $ 44,560.60\n",
    "\n",
    "\n",
    "# * CODE from Income Interpolation 1990 2000 2016.do\n",
    "reg_med_inc_00 = 42917"
   ]
  },
  {
   "cell_type": "markdown",
   "metadata": {},
   "source": [
    "#### Creates income cutoffs"
   ]
  },
  {
   "cell_type": "code",
   "execution_count": 22,
   "metadata": {},
   "outputs": [
    {
     "data": {
      "text/html": [
       "<div>\n",
       "<style scoped>\n",
       "    .dataframe tbody tr th:only-of-type {\n",
       "        vertical-align: middle;\n",
       "    }\n",
       "\n",
       "    .dataframe tbody tr th {\n",
       "        vertical-align: top;\n",
       "    }\n",
       "\n",
       "    .dataframe thead th {\n",
       "        text-align: right;\n",
       "    }\n",
       "</style>\n",
       "<table border=\"1\" class=\"dataframe\">\n",
       "  <thead>\n",
       "    <tr style=\"text-align: right;\">\n",
       "      <th></th>\n",
       "      <th>denominator_00</th>\n",
       "      <th>I_10000</th>\n",
       "      <th>I_15000</th>\n",
       "      <th>I_20000</th>\n",
       "      <th>I_25000</th>\n",
       "      <th>I_30000</th>\n",
       "      <th>I_35000</th>\n",
       "      <th>I_40000</th>\n",
       "      <th>I_45000</th>\n",
       "      <th>I_50000</th>\n",
       "      <th>I_60000</th>\n",
       "      <th>I_75000</th>\n",
       "      <th>I_100000</th>\n",
       "      <th>I_125000</th>\n",
       "      <th>I_150000</th>\n",
       "      <th>I_200000</th>\n",
       "      <th>I_201</th>\n",
       "      <th>countymedian_income00</th>\n",
       "      <th>med_inc</th>\n",
       "    </tr>\n",
       "  </thead>\n",
       "  <tbody>\n",
       "    <tr>\n",
       "      <th>count</th>\n",
       "      <td>3121.000000</td>\n",
       "      <td>3121.000000</td>\n",
       "      <td>3121.000000</td>\n",
       "      <td>3121.000000</td>\n",
       "      <td>3121.000000</td>\n",
       "      <td>3121.000000</td>\n",
       "      <td>3121.000000</td>\n",
       "      <td>3121.000000</td>\n",
       "      <td>3121.000000</td>\n",
       "      <td>3121.000000</td>\n",
       "      <td>3121.000000</td>\n",
       "      <td>3121.000000</td>\n",
       "      <td>3121.000000</td>\n",
       "      <td>3121.000000</td>\n",
       "      <td>3121.000000</td>\n",
       "      <td>3121.000000</td>\n",
       "      <td>3121.000000</td>\n",
       "      <td>3123.000000</td>\n",
       "      <td>1983.000000</td>\n",
       "    </tr>\n",
       "    <tr>\n",
       "      <th>mean</th>\n",
       "      <td>1471.560397</td>\n",
       "      <td>122.812880</td>\n",
       "      <td>80.898750</td>\n",
       "      <td>80.271067</td>\n",
       "      <td>85.641141</td>\n",
       "      <td>86.401794</td>\n",
       "      <td>88.529958</td>\n",
       "      <td>83.638577</td>\n",
       "      <td>81.978533</td>\n",
       "      <td>73.146107</td>\n",
       "      <td>138.223005</td>\n",
       "      <td>167.108619</td>\n",
       "      <td>170.381288</td>\n",
       "      <td>89.911567</td>\n",
       "      <td>43.170138</td>\n",
       "      <td>38.146748</td>\n",
       "      <td>41.300224</td>\n",
       "      <td>47512.573487</td>\n",
       "      <td>47750.800781</td>\n",
       "    </tr>\n",
       "    <tr>\n",
       "      <th>std</th>\n",
       "      <td>588.969423</td>\n",
       "      <td>115.728689</td>\n",
       "      <td>56.893851</td>\n",
       "      <td>50.673531</td>\n",
       "      <td>52.152860</td>\n",
       "      <td>50.786986</td>\n",
       "      <td>49.896535</td>\n",
       "      <td>47.582051</td>\n",
       "      <td>46.107768</td>\n",
       "      <td>40.130943</td>\n",
       "      <td>72.678075</td>\n",
       "      <td>94.257366</td>\n",
       "      <td>112.274563</td>\n",
       "      <td>78.291082</td>\n",
       "      <td>44.624216</td>\n",
       "      <td>50.750576</td>\n",
       "      <td>78.427772</td>\n",
       "      <td>10225.181273</td>\n",
       "      <td>28410.117188</td>\n",
       "    </tr>\n",
       "    <tr>\n",
       "      <th>min</th>\n",
       "      <td>0.000000</td>\n",
       "      <td>0.000000</td>\n",
       "      <td>0.000000</td>\n",
       "      <td>0.000000</td>\n",
       "      <td>0.000000</td>\n",
       "      <td>0.000000</td>\n",
       "      <td>0.000000</td>\n",
       "      <td>0.000000</td>\n",
       "      <td>0.000000</td>\n",
       "      <td>0.000000</td>\n",
       "      <td>0.000000</td>\n",
       "      <td>0.000000</td>\n",
       "      <td>0.000000</td>\n",
       "      <td>0.000000</td>\n",
       "      <td>0.000000</td>\n",
       "      <td>0.000000</td>\n",
       "      <td>0.000000</td>\n",
       "      <td>24946.000000</td>\n",
       "      <td>0.000000</td>\n",
       "    </tr>\n",
       "    <tr>\n",
       "      <th>25%</th>\n",
       "      <td>1058.000000</td>\n",
       "      <td>49.274143</td>\n",
       "      <td>37.310110</td>\n",
       "      <td>42.000000</td>\n",
       "      <td>46.000000</td>\n",
       "      <td>48.000000</td>\n",
       "      <td>52.000000</td>\n",
       "      <td>49.000000</td>\n",
       "      <td>48.879561</td>\n",
       "      <td>43.285164</td>\n",
       "      <td>86.000000</td>\n",
       "      <td>97.000000</td>\n",
       "      <td>82.000000</td>\n",
       "      <td>30.000000</td>\n",
       "      <td>10.000000</td>\n",
       "      <td>6.000000</td>\n",
       "      <td>6.000000</td>\n",
       "      <td>41532.000000</td>\n",
       "      <td>27887.373047</td>\n",
       "    </tr>\n",
       "    <tr>\n",
       "      <th>50%</th>\n",
       "      <td>1413.000000</td>\n",
       "      <td>91.000000</td>\n",
       "      <td>71.000000</td>\n",
       "      <td>72.000000</td>\n",
       "      <td>78.000000</td>\n",
       "      <td>80.851916</td>\n",
       "      <td>83.000000</td>\n",
       "      <td>78.000000</td>\n",
       "      <td>77.421576</td>\n",
       "      <td>69.664460</td>\n",
       "      <td>131.000000</td>\n",
       "      <td>157.000000</td>\n",
       "      <td>150.312689</td>\n",
       "      <td>66.005677</td>\n",
       "      <td>28.000000</td>\n",
       "      <td>18.000000</td>\n",
       "      <td>15.000000</td>\n",
       "      <td>45922.000000</td>\n",
       "      <td>42917.000000</td>\n",
       "    </tr>\n",
       "    <tr>\n",
       "      <th>75%</th>\n",
       "      <td>1823.000000</td>\n",
       "      <td>159.999895</td>\n",
       "      <td>112.000000</td>\n",
       "      <td>108.206160</td>\n",
       "      <td>116.000000</td>\n",
       "      <td>116.000000</td>\n",
       "      <td>116.002274</td>\n",
       "      <td>111.000000</td>\n",
       "      <td>108.000000</td>\n",
       "      <td>97.000000</td>\n",
       "      <td>180.000000</td>\n",
       "      <td>224.062522</td>\n",
       "      <td>241.910490</td>\n",
       "      <td>130.229245</td>\n",
       "      <td>62.000000</td>\n",
       "      <td>49.035380</td>\n",
       "      <td>39.000000</td>\n",
       "      <td>45922.000000</td>\n",
       "      <td>60222.500000</td>\n",
       "    </tr>\n",
       "    <tr>\n",
       "      <th>max</th>\n",
       "      <td>4975.000000</td>\n",
       "      <td>1243.999200</td>\n",
       "      <td>409.000000</td>\n",
       "      <td>364.000000</td>\n",
       "      <td>337.000000</td>\n",
       "      <td>491.000000</td>\n",
       "      <td>443.000000</td>\n",
       "      <td>377.000000</td>\n",
       "      <td>345.000000</td>\n",
       "      <td>258.909143</td>\n",
       "      <td>502.000000</td>\n",
       "      <td>646.000000</td>\n",
       "      <td>618.000000</td>\n",
       "      <td>481.000000</td>\n",
       "      <td>266.987615</td>\n",
       "      <td>368.001039</td>\n",
       "      <td>874.701651</td>\n",
       "      <td>67887.000000</td>\n",
       "      <td>271762.437500</td>\n",
       "    </tr>\n",
       "  </tbody>\n",
       "</table>\n",
       "</div>"
      ],
      "text/plain": [
       "       denominator_00      I_10000      I_15000      I_20000      I_25000  \\\n",
       "count     3121.000000  3121.000000  3121.000000  3121.000000  3121.000000   \n",
       "mean      1471.560397   122.812880    80.898750    80.271067    85.641141   \n",
       "std        588.969423   115.728689    56.893851    50.673531    52.152860   \n",
       "min          0.000000     0.000000     0.000000     0.000000     0.000000   \n",
       "25%       1058.000000    49.274143    37.310110    42.000000    46.000000   \n",
       "50%       1413.000000    91.000000    71.000000    72.000000    78.000000   \n",
       "75%       1823.000000   159.999895   112.000000   108.206160   116.000000   \n",
       "max       4975.000000  1243.999200   409.000000   364.000000   337.000000   \n",
       "\n",
       "           I_30000      I_35000      I_40000      I_45000      I_50000  \\\n",
       "count  3121.000000  3121.000000  3121.000000  3121.000000  3121.000000   \n",
       "mean     86.401794    88.529958    83.638577    81.978533    73.146107   \n",
       "std      50.786986    49.896535    47.582051    46.107768    40.130943   \n",
       "min       0.000000     0.000000     0.000000     0.000000     0.000000   \n",
       "25%      48.000000    52.000000    49.000000    48.879561    43.285164   \n",
       "50%      80.851916    83.000000    78.000000    77.421576    69.664460   \n",
       "75%     116.000000   116.002274   111.000000   108.000000    97.000000   \n",
       "max     491.000000   443.000000   377.000000   345.000000   258.909143   \n",
       "\n",
       "           I_60000      I_75000     I_100000     I_125000     I_150000  \\\n",
       "count  3121.000000  3121.000000  3121.000000  3121.000000  3121.000000   \n",
       "mean    138.223005   167.108619   170.381288    89.911567    43.170138   \n",
       "std      72.678075    94.257366   112.274563    78.291082    44.624216   \n",
       "min       0.000000     0.000000     0.000000     0.000000     0.000000   \n",
       "25%      86.000000    97.000000    82.000000    30.000000    10.000000   \n",
       "50%     131.000000   157.000000   150.312689    66.005677    28.000000   \n",
       "75%     180.000000   224.062522   241.910490   130.229245    62.000000   \n",
       "max     502.000000   646.000000   618.000000   481.000000   266.987615   \n",
       "\n",
       "          I_200000        I_201  countymedian_income00        med_inc  \n",
       "count  3121.000000  3121.000000            3123.000000    1983.000000  \n",
       "mean     38.146748    41.300224           47512.573487   47750.800781  \n",
       "std      50.750576    78.427772           10225.181273   28410.117188  \n",
       "min       0.000000     0.000000           24946.000000       0.000000  \n",
       "25%       6.000000     6.000000           41532.000000   27887.373047  \n",
       "50%      18.000000    15.000000           45922.000000   42917.000000  \n",
       "75%      49.035380    39.000000           45922.000000   60222.500000  \n",
       "max     368.001039   874.701651           67887.000000  271762.437500  "
      ]
     },
     "execution_count": 22,
     "metadata": {},
     "output_type": "execute_result"
    }
   ],
   "source": [
    "income_group.describe()"
   ]
  },
  {
   "cell_type": "code",
   "execution_count": 23,
   "metadata": {},
   "outputs": [
    {
     "name": "stdout",
     "output_type": "stream",
     "text": [
      "10000\n",
      "15000\n",
      "20000\n",
      "25000\n",
      "30000\n",
      "35000\n",
      "40000\n",
      "45000\n",
      "50000\n",
      "60000\n",
      "75000\n",
      "100000\n",
      "125000\n",
      "150000\n",
      "200000\n",
      "['prop_10000', 'prop_15000', 'prop_20000', 'prop_25000', 'prop_30000', 'prop_35000', 'prop_40000', 'prop_45000', 'prop_50000', 'prop_60000', 'prop_75000', 'prop_100000', 'prop_125000', 'prop_150000', 'prop_200000']\n"
     ]
    }
   ],
   "source": [
    "### percent of HH in each income category\n",
    "number = ['10000', '15000', '20000', '25000', '30000', '35000', '40000', '45000', '50000', '60000', '75000',\n",
    "          '100000', '125000', '150000', '200000']\n",
    "column = list()\n",
    "for i in number:\n",
    "    print(i)\n",
    "    column.append('prop_'+i)\n",
    "    income_group['prop_'+i] = income_group['I_'+i]/income_group['denominator_00']\n",
    "print(column)"
   ]
  },
  {
   "cell_type": "markdown",
   "metadata": {},
   "source": [
    "###### Determines 80% cutoff"
   ]
  },
  {
   "cell_type": "code",
   "execution_count": 24,
   "metadata": {},
   "outputs": [
    {
     "name": "stdout",
     "output_type": "stream",
     "text": [
      "10000\n",
      "15000\n",
      "20000\n",
      "25000\n",
      "30000\n",
      "35000\n",
      "40000\n",
      "45000\n",
      "50000\n",
      "60000\n",
      "75000\n",
      "100000\n",
      "125000\n",
      "150000\n"
     ]
    }
   ],
   "source": [
    "### 80% cutoff of the regional median income\n",
    "df = income_group\n",
    "reg_med_inc80_00 = 0.8*reg_med_inc_00\n",
    "\n",
    "df['inc80_cumulative'] = 0\n",
    "df['inc80_00'] = 0\n",
    "\n",
    "### percent of HH in each income category\n",
    "number = ['10000', '15000', '20000', '25000', '30000', '35000', '40000', '45000']\n",
    "for i in number:\n",
    "    a = int(i)\n",
    "    b = a + 4999.99\n",
    "    prop = str(int(i) + 5000)\n",
    "    df['inc80_cumulative'] = df['inc80_cumulative']+df['prop_'+i]\n",
    "    \n",
    "    if (reg_med_inc80_00>=a)&(reg_med_inc80_00 <b):\n",
    "        df['inc80_00'] = ((reg_med_inc80_00 - a)/(b-a))*df['prop_'+prop] + df['inc80_cumulative']\n",
    "    print(i)\n",
    "\n",
    "number = ['50000']\n",
    "for i in number:\n",
    "    a = int(i)\n",
    "    b = a + 9999.99\n",
    "    prop = str(int(i) + 10000)\n",
    "    df['inc80_cumulative'] = df['inc80_cumulative']+df['prop_'+i]\n",
    "    \n",
    "    if (reg_med_inc80_00>=a)&(reg_med_inc80_00 <b):\n",
    "        df['inc80_00'] = ((reg_med_inc80_00 - a)/(b-a))*df['prop_'+prop] + df['inc80_cumulative']\n",
    "    print(i)\n",
    "\n",
    "number = ['60000']\n",
    "for i in number:\n",
    "    a = int(i)\n",
    "    b = a + 14999.99\n",
    "    prop = str(int(i) + 15000)\n",
    "    df['inc80_cumulative'] = df['inc80_cumulative']+df['prop_'+i]\n",
    "    \n",
    "    if (reg_med_inc80_00>=a)&(reg_med_inc80_00 <b):\n",
    "        df['inc80_00'] = ((reg_med_inc80_00 - a)/(b-a))*df['prop_'+prop] + df['inc80_cumulative']\n",
    "    print(i)\n",
    "\n",
    "number = ['75000', '100000', '125000']\n",
    "for i in number:\n",
    "    a = int(i)\n",
    "    b = a + 24999.99\n",
    "    prop = str(int(i) + 25000)\n",
    "    df['inc80_cumulative'] = df['inc80_cumulative']+df['prop_'+i]\n",
    "    \n",
    "    if (reg_med_inc80_00>=a)&(reg_med_inc80_00 <b):\n",
    "        df['inc80_00'] = ((reg_med_inc80_00 - a)/(b-a))*df['prop_'+prop] + df['inc80_cumulative']\n",
    "    print(i)\n",
    "\n",
    "number = ['150000']\n",
    "for i in number:\n",
    "    a = int(i)\n",
    "    b = a + 49999.99\n",
    "    prop = str(int(i) + 50000)\n",
    "    df['inc80_cumulative'] = df['inc80_cumulative']+df['prop_'+i]\n",
    "    \n",
    "    if (reg_med_inc80_00>=a)&(reg_med_inc80_00 <b):\n",
    "        df['inc80_00'] = ((reg_med_inc80_00 - a)/(b-a))*df['prop_'+prop] + df['inc80_cumulative']\n",
    "    print(i)\n",
    "    \n",
    "df = df.drop(columns = ['inc80_cumulative'])"
   ]
  },
  {
   "cell_type": "markdown",
   "metadata": {},
   "source": [
    "###### Determines 120% cutoff"
   ]
  },
  {
   "cell_type": "code",
   "execution_count": 25,
   "metadata": {},
   "outputs": [
    {
     "name": "stdout",
     "output_type": "stream",
     "text": [
      "10000\n",
      "15000\n",
      "20000\n",
      "25000\n",
      "30000\n",
      "35000\n",
      "40000\n",
      "45000\n",
      "50000\n",
      "60000\n",
      "75000\n",
      "100000\n",
      "125000\n",
      "150000\n"
     ]
    }
   ],
   "source": [
    "df = income_group\n",
    "reg_med_inc120_00 = 1.2*reg_med_inc_00\n",
    "\n",
    "df['inc120_cumulative'] = 0\n",
    "df['inc120_00'] = 0\n",
    "\n",
    "\n",
    "### percent of HH in each income category\n",
    "number = ['10000', '15000', '20000', '25000', '30000', '35000', '40000', '45000']\n",
    "for i in number:\n",
    "    a = int(i)\n",
    "    b = a + 4999.99\n",
    "    prop = str(int(i) + 5000)\n",
    "    df['inc120_cumulative'] = df['inc120_cumulative']+df['prop_'+i]\n",
    "    \n",
    "    if (reg_med_inc120_00>=a)&(reg_med_inc120_00 <b):\n",
    "        df['inc120_00'] = ((reg_med_inc120_00 - a)/(b-a))*df['prop_'+prop] + df['inc120_cumulative']\n",
    "    print(i)\n",
    "\n",
    "number = ['50000']\n",
    "for i in number:\n",
    "    a = int(i)\n",
    "    b = a + 9999.99\n",
    "    prop = str(int(i) + 10000)\n",
    "    df['inc120_cumulative'] = df['inc120_cumulative']+df['prop_'+i]\n",
    "    \n",
    "    if (reg_med_inc120_00>=a)&(reg_med_inc120_00 <b):\n",
    "        df['inc120_00'] = ((reg_med_inc120_00 - a)/(b-a))*df['prop_'+prop] + df['inc120_cumulative']\n",
    "    print(i)\n",
    "\n",
    "number = ['60000']\n",
    "for i in number:\n",
    "    a = int(i)\n",
    "    b = a + 14999.99\n",
    "    prop = str(int(i) + 15000)\n",
    "    df['inc120_cumulative'] = df['inc120_cumulative']+df['prop_'+i]\n",
    "    \n",
    "    if (reg_med_inc120_00>=a)&(reg_med_inc120_00 <b):\n",
    "        df['inc120_00'] = ((reg_med_inc120_00 - a)/(b-a))*df['prop_'+prop] + df['inc120_cumulative']\n",
    "    print(i)\n",
    "\n",
    "number = ['75000', '100000', '125000']\n",
    "for i in number:\n",
    "    a = int(i)\n",
    "    b = a + 24999.99\n",
    "    prop = str(int(i) + 25000)\n",
    "    df['inc120_cumulative'] = df['inc120_cumulative']+df['prop_'+i]\n",
    "    \n",
    "    if (reg_med_inc120_00>=a)&(reg_med_inc120_00 <b):\n",
    "        df['inc120_00'] = ((reg_med_inc120_00 - a)/(b-a))*df['prop_'+prop] + df['inc120_cumulative']\n",
    "    print(i)\n",
    "\n",
    "number = ['150000']\n",
    "for i in number:\n",
    "    a = int(i)\n",
    "    b = a + 49999.99\n",
    "    prop = str(int(i) + 50000)\n",
    "    df['inc120_cumulative'] = df['inc120_cumulative']+df['prop_'+i]\n",
    "    \n",
    "    if (reg_med_inc120_00>=a)&(reg_med_inc120_00 <b):\n",
    "        df['inc120_00'] = ((reg_med_inc120_00 - a)/(b-a))*df['prop_'+prop] + df['inc120_cumulative']\n",
    "    print(i)\n",
    "    \n",
    "df = df.drop(columns = ['inc120_cumulative'])"
   ]
  },
  {
   "cell_type": "markdown",
   "metadata": {},
   "source": [
    "###### Generate share of each income group"
   ]
  },
  {
   "cell_type": "code",
   "execution_count": 26,
   "metadata": {},
   "outputs": [
    {
     "data": {
      "text/html": [
       "<div>\n",
       "<style scoped>\n",
       "    .dataframe tbody tr th:only-of-type {\n",
       "        vertical-align: middle;\n",
       "    }\n",
       "\n",
       "    .dataframe tbody tr th {\n",
       "        vertical-align: top;\n",
       "    }\n",
       "\n",
       "    .dataframe thead th {\n",
       "        text-align: right;\n",
       "    }\n",
       "</style>\n",
       "<table border=\"1\" class=\"dataframe\">\n",
       "  <thead>\n",
       "    <tr style=\"text-align: right;\">\n",
       "      <th></th>\n",
       "      <th>FIPS</th>\n",
       "      <th>NAME</th>\n",
       "      <th>QName</th>\n",
       "      <th>NATION</th>\n",
       "      <th>STATE</th>\n",
       "      <th>COUNTY</th>\n",
       "      <th>CT</th>\n",
       "      <th>denominator_00</th>\n",
       "      <th>I_10000</th>\n",
       "      <th>I_15000</th>\n",
       "      <th>...</th>\n",
       "      <th>prop_125000</th>\n",
       "      <th>prop_150000</th>\n",
       "      <th>prop_200000</th>\n",
       "      <th>inc80_cumulative</th>\n",
       "      <th>inc80_00</th>\n",
       "      <th>inc120_cumulative</th>\n",
       "      <th>inc120_00</th>\n",
       "      <th>low_80120_00</th>\n",
       "      <th>mod_80120_00</th>\n",
       "      <th>high_80120_00</th>\n",
       "    </tr>\n",
       "  </thead>\n",
       "  <tbody>\n",
       "    <tr>\n",
       "      <th>0</th>\n",
       "      <td>17001000100</td>\n",
       "      <td>Census Tract 1</td>\n",
       "      <td>Census Tract 1, Adams County, Illinois</td>\n",
       "      <td>00</td>\n",
       "      <td>17</td>\n",
       "      <td>001</td>\n",
       "      <td>000100</td>\n",
       "      <td>1959.0</td>\n",
       "      <td>173.0</td>\n",
       "      <td>150.0</td>\n",
       "      <td>...</td>\n",
       "      <td>0.016335</td>\n",
       "      <td>0.0</td>\n",
       "      <td>0.000000</td>\n",
       "      <td>0.990812</td>\n",
       "      <td>0.526362</td>\n",
       "      <td>0.990812</td>\n",
       "      <td>0.746405</td>\n",
       "      <td>0.526362</td>\n",
       "      <td>0.220043</td>\n",
       "      <td>0.253595</td>\n",
       "    </tr>\n",
       "    <tr>\n",
       "      <th>1</th>\n",
       "      <td>17001000201</td>\n",
       "      <td>Census Tract 2.01</td>\n",
       "      <td>Census Tract 2.01, Adams County, Illinois</td>\n",
       "      <td>00</td>\n",
       "      <td>17</td>\n",
       "      <td>001</td>\n",
       "      <td>000201</td>\n",
       "      <td>811.0</td>\n",
       "      <td>60.0</td>\n",
       "      <td>95.0</td>\n",
       "      <td>...</td>\n",
       "      <td>0.000000</td>\n",
       "      <td>0.0</td>\n",
       "      <td>0.008631</td>\n",
       "      <td>0.991369</td>\n",
       "      <td>0.556765</td>\n",
       "      <td>0.991369</td>\n",
       "      <td>0.832557</td>\n",
       "      <td>0.556765</td>\n",
       "      <td>0.275792</td>\n",
       "      <td>0.167443</td>\n",
       "    </tr>\n",
       "    <tr>\n",
       "      <th>2</th>\n",
       "      <td>17001000202</td>\n",
       "      <td>Census Tract 2.02</td>\n",
       "      <td>Census Tract 2.02, Adams County, Illinois</td>\n",
       "      <td>00</td>\n",
       "      <td>17</td>\n",
       "      <td>001</td>\n",
       "      <td>000202</td>\n",
       "      <td>1099.0</td>\n",
       "      <td>132.0</td>\n",
       "      <td>85.0</td>\n",
       "      <td>...</td>\n",
       "      <td>0.000000</td>\n",
       "      <td>0.0</td>\n",
       "      <td>0.000000</td>\n",
       "      <td>0.990901</td>\n",
       "      <td>0.561305</td>\n",
       "      <td>0.990901</td>\n",
       "      <td>0.777210</td>\n",
       "      <td>0.561305</td>\n",
       "      <td>0.215905</td>\n",
       "      <td>0.222790</td>\n",
       "    </tr>\n",
       "  </tbody>\n",
       "</table>\n",
       "<p>3 rows × 48 columns</p>\n",
       "</div>"
      ],
      "text/plain": [
       "          FIPS               NAME                                      QName  \\\n",
       "0  17001000100     Census Tract 1     Census Tract 1, Adams County, Illinois   \n",
       "1  17001000201  Census Tract 2.01  Census Tract 2.01, Adams County, Illinois   \n",
       "2  17001000202  Census Tract 2.02  Census Tract 2.02, Adams County, Illinois   \n",
       "\n",
       "  NATION STATE COUNTY      CT  denominator_00  I_10000  I_15000  \\\n",
       "0     00    17    001  000100          1959.0    173.0    150.0   \n",
       "1     00    17    001  000201           811.0     60.0     95.0   \n",
       "2     00    17    001  000202          1099.0    132.0     85.0   \n",
       "\n",
       "       ...        prop_125000  prop_150000  prop_200000  inc80_cumulative  \\\n",
       "0      ...           0.016335          0.0     0.000000          0.990812   \n",
       "1      ...           0.000000          0.0     0.008631          0.991369   \n",
       "2      ...           0.000000          0.0     0.000000          0.990901   \n",
       "\n",
       "   inc80_00  inc120_cumulative  inc120_00  low_80120_00  mod_80120_00  \\\n",
       "0  0.526362           0.990812   0.746405      0.526362      0.220043   \n",
       "1  0.556765           0.991369   0.832557      0.556765      0.275792   \n",
       "2  0.561305           0.990901   0.777210      0.561305      0.215905   \n",
       "\n",
       "   high_80120_00  \n",
       "0       0.253595  \n",
       "1       0.167443  \n",
       "2       0.222790  \n",
       "\n",
       "[3 rows x 48 columns]"
      ]
     },
     "execution_count": 26,
     "metadata": {},
     "output_type": "execute_result"
    }
   ],
   "source": [
    "income_group['low_80120_00'] = income_group['inc80_00']\n",
    "income_group['mod_80120_00'] = income_group['inc120_00'] - income_group['inc80_00']\n",
    "income_group['high_80120_00'] = 1 - income_group['inc120_00']\n",
    "income_group.head(3)"
   ]
  },
  {
   "cell_type": "code",
   "execution_count": 27,
   "metadata": {},
   "outputs": [
    {
     "data": {
      "text/plain": [
       "count    3123.0\n",
       "mean        1.0\n",
       "std         0.0\n",
       "min         1.0\n",
       "25%         1.0\n",
       "50%         1.0\n",
       "75%         1.0\n",
       "max         1.0\n",
       "Name: validsample, dtype: float64"
      ]
     },
     "execution_count": 27,
     "metadata": {},
     "output_type": "execute_result"
    }
   ],
   "source": [
    "### Excludes CT without data\n",
    "### According to stata code comment, I should have 25 CT without data, but I have zero\n",
    "df = income_group\n",
    "df['validsample'] = np.where((df['inc80_00'] == 0)|(df['inc120_00'] == 0), 0, 1)\n",
    "df['validsample'].describe()"
   ]
  },
  {
   "cell_type": "code",
   "execution_count": 28,
   "metadata": {},
   "outputs": [
    {
     "name": "stderr",
     "output_type": "stream",
     "text": [
      "C:\\Users\\Gaby\\Anaconda3\\lib\\site-packages\\ipykernel_launcher.py:5: SettingWithCopyWarning: \n",
      "A value is trying to be set on a copy of a slice from a DataFrame\n",
      "\n",
      "See the caveats in the documentation: http://pandas.pydata.org/pandas-docs/stable/indexing.html#indexing-view-versus-copy\n",
      "  \"\"\"\n",
      "C:\\Users\\Gaby\\Anaconda3\\lib\\site-packages\\ipykernel_launcher.py:9: SettingWithCopyWarning: \n",
      "A value is trying to be set on a copy of a slice from a DataFrame\n",
      "\n",
      "See the caveats in the documentation: http://pandas.pydata.org/pandas-docs/stable/indexing.html#indexing-view-versus-copy\n",
      "  if __name__ == '__main__':\n",
      "C:\\Users\\Gaby\\Anaconda3\\lib\\site-packages\\ipykernel_launcher.py:13: SettingWithCopyWarning: \n",
      "A value is trying to be set on a copy of a slice from a DataFrame\n",
      "\n",
      "See the caveats in the documentation: http://pandas.pydata.org/pandas-docs/stable/indexing.html#indexing-view-versus-copy\n",
      "  del sys.path[0]\n",
      "C:\\Users\\Gaby\\Anaconda3\\lib\\site-packages\\ipykernel_launcher.py:18: SettingWithCopyWarning: \n",
      "A value is trying to be set on a copy of a slice from a DataFrame\n",
      "\n",
      "See the caveats in the documentation: http://pandas.pydata.org/pandas-docs/stable/indexing.html#indexing-view-versus-copy\n",
      "C:\\Users\\Gaby\\Anaconda3\\lib\\site-packages\\ipykernel_launcher.py:22: SettingWithCopyWarning: \n",
      "A value is trying to be set on a copy of a slice from a DataFrame\n",
      "\n",
      "See the caveats in the documentation: http://pandas.pydata.org/pandas-docs/stable/indexing.html#indexing-view-versus-copy\n",
      "C:\\Users\\Gaby\\Anaconda3\\lib\\site-packages\\ipykernel_launcher.py:27: SettingWithCopyWarning: \n",
      "A value is trying to be set on a copy of a slice from a DataFrame\n",
      "\n",
      "See the caveats in the documentation: http://pandas.pydata.org/pandas-docs/stable/indexing.html#indexing-view-versus-copy\n",
      "C:\\Users\\Gaby\\Anaconda3\\lib\\site-packages\\ipykernel_launcher.py:33: SettingWithCopyWarning: \n",
      "A value is trying to be set on a copy of a slice from a DataFrame\n",
      "\n",
      "See the caveats in the documentation: http://pandas.pydata.org/pandas-docs/stable/indexing.html#indexing-view-versus-copy\n",
      "C:\\Users\\Gaby\\Anaconda3\\lib\\site-packages\\ipykernel_launcher.py:40: SettingWithCopyWarning: \n",
      "A value is trying to be set on a copy of a slice from a DataFrame\n",
      "\n",
      "See the caveats in the documentation: http://pandas.pydata.org/pandas-docs/stable/indexing.html#indexing-view-versus-copy\n",
      "C:\\Users\\Gaby\\Anaconda3\\lib\\site-packages\\ipykernel_launcher.py:46: SettingWithCopyWarning: \n",
      "A value is trying to be set on a copy of a slice from a DataFrame\n",
      "\n",
      "See the caveats in the documentation: http://pandas.pydata.org/pandas-docs/stable/indexing.html#indexing-view-versus-copy\n",
      "C:\\Users\\Gaby\\Anaconda3\\lib\\site-packages\\ipykernel_launcher.py:52: SettingWithCopyWarning: \n",
      "A value is trying to be set on a copy of a slice from a DataFrame\n",
      "\n",
      "See the caveats in the documentation: http://pandas.pydata.org/pandas-docs/stable/indexing.html#indexing-view-versus-copy\n"
     ]
    }
   ],
   "source": [
    "df = income_group\n",
    "\n",
    "### Low income\n",
    "df['low_pdmt_80120'] = np.where((df['low_80120_00']>=0.5)&(df['mod_80120_00']<0.4)&(df['high_80120_00']<0.4),1,0)\n",
    "df['low_pdmt_80120'][df['validsample']==0] = 0\n",
    "\n",
    "## High income\n",
    "df['high_pdmt_80120'] = np.where((df['low_80120_00']<0.4)&(df['mod_80120_00']<0.4)&(df['high_80120_00']>=0.5),1,0)\n",
    "df['high_pdmt_80120'][df['validsample']==0] = 0\n",
    "\n",
    "### Moderate income\n",
    "df['mod_pdmt_80120'] = np.where((df['low_80120_00']<0.4)&(df['mod_80120_00']>=0.5)&(df['high_80120_00']<0.4),1,0)\n",
    "df['mod_pdmt_80120'][df['validsample']==0] = 0\n",
    "\n",
    "### Mixed-Low income\n",
    "df['mix_low_80120'] = np.where((df['low_80120_00']>=0.4)&(df['mod_80120_00']<0.35)&(df['high_80120_00']<0.35)&\n",
    "                               (df['low_pdmt_80120']==0)&(df['mod_pdmt_80120']==0)&(df['high_pdmt_80120']==0),1,0)\n",
    "df['mix_low_80120'][df['validsample']==0] = 0\n",
    "### Mixed-Moderate income\n",
    "df['mix_mod_80120'] = np.where((df['low_80120_00']<0.35)&(df['mod_80120_00']>=0.4)&(df['high_80120_00']<0.35)&\n",
    "                               (df['low_pdmt_80120']==0)&(df['mod_pdmt_80120']==0)&(df['high_pdmt_80120']==0),1,0)\n",
    "df['mix_mod_80120'][df['validsample']==0] = 0\n",
    "\n",
    "### Mixed-High income\n",
    "df['mix_high_80120'] = np.where((df['low_80120_00']<0.35)&(df['mod_80120_00']<0.35)&(df['high_80120_00']>=0.4)&\n",
    "                               (df['low_pdmt_80120']==0)&(df['mod_pdmt_80120']==0)&(df['high_pdmt_80120']==0),1,0)\n",
    "df['mix_high_80120'][df['validsample']==0] = 0\n",
    "\n",
    "### Mixed-Low-Mod income\n",
    "df['mix_l_m_80120'] = np.where((df['low_80120_00']>=0.35)&(df['mod_80120_00']>=0.35)&\n",
    "                               (df['low_pdmt_80120']==0)&(df['mod_pdmt_80120']==0)&(df['high_pdmt_80120']==0)&\n",
    "                               (df['mix_low_80120']==0)&(df['mix_mod_80120']==0)&(df['mix_high_80120']==0),1,0)\n",
    "df['mix_l_m_80120'][df['validsample']==0] = 0\n",
    "\n",
    "### Mixed-Mod-High income\n",
    "### Mixed-Low-Mod income\n",
    "df['mix_m_h_80120'] = np.where((df['mod_80120_00']>=0.35)&(df['high_80120_00']>=0.35)&\n",
    "                               (df['low_pdmt_80120']==0)&(df['mod_pdmt_80120']==0)&(df['high_pdmt_80120']==0)&\n",
    "                               (df['mix_low_80120']==0)&(df['mix_mod_80120']==0)&(df['mix_high_80120']==0),1,0)\n",
    "df['mix_m_h_80120'][df['validsample']==0] = 0\n",
    "\n",
    "### Mixed-Low-High income\n",
    "df['mix_l_h_80120'] = np.where((df['low_80120_00']>=0.35)&(df['high_80120_00']>=0.35)&\n",
    "                               (df['low_pdmt_80120']==0)&(df['mod_pdmt_80120']==0)&(df['high_pdmt_80120']==0)&\n",
    "                               (df['mix_low_80120']==0)&(df['mix_mod_80120']==0)&(df['mix_high_80120']==0),1,0)\n",
    "df['mix_l_h_80120'][df['validsample']==0] = 0\n",
    "\n",
    "### Mixed-Uni income\n",
    "df['mix_uni_80120'] = np.where((df['low_pdmt_80120']==0)&(df['mod_pdmt_80120']==0)&(df['high_pdmt_80120']==0)&\n",
    "                               (df['mix_low_80120']==0)&(df['mix_mod_80120']==0)&(df['mix_high_80120']==0)&\n",
    "                               (df['mix_l_m_80120']==0)&(df['mix_m_h_80120']==0)&(df['mix_l_h_80120']==0),1,0)\n",
    "df['mix_uni_80120'][df['validsample']==0] = 0"
   ]
  },
  {
   "cell_type": "markdown",
   "metadata": {},
   "source": [
    "###### Compute income categories"
   ]
  },
  {
   "cell_type": "code",
   "execution_count": 29,
   "metadata": {},
   "outputs": [],
   "source": [
    "income_group['inc_cat_80120'] = 0\n",
    "income_group.loc[income_group['low_pdmt_80120']==1, 'inc_cat_80120'] = 1\n",
    "income_group.loc[income_group['mix_low_80120']==1, 'inc_cat_80120'] = 2\n",
    "income_group.loc[income_group['mix_l_m_80120']==1, 'inc_cat_80120'] = 3\n",
    "income_group.loc[income_group['mix_l_h_80120']==1, 'inc_cat_80120'] = 4\n",
    "income_group.loc[income_group['mix_uni_80120']==1, 'inc_cat_80120'] = 5\n",
    "income_group.loc[income_group['mod_pdmt_80120']==1, 'inc_cat_80120'] = 6\n",
    "income_group.loc[income_group['mix_mod_80120']==1, 'inc_cat_80120'] = 7\n",
    "income_group.loc[income_group['mix_m_h_80120']==1, 'inc_cat_80120'] = 8\n",
    "income_group.loc[income_group['mix_high_80120']==1, 'inc_cat_80120'] = 9\n",
    "income_group.loc[income_group['high_pdmt_80120']==1, 'inc_cat_80120'] = 10\n",
    "income_group.loc[income_group['validsample']==0, 'inc_cat_80120'] = ''"
   ]
  },
  {
   "cell_type": "code",
   "execution_count": 30,
   "metadata": {},
   "outputs": [
    {
     "data": {
      "text/plain": [
       "inc_cat_80120\n",
       "1      758\n",
       "2      339\n",
       "3        1\n",
       "4      563\n",
       "5       36\n",
       "8        1\n",
       "9      307\n",
       "10    1118\n",
       "Name: FIPS, dtype: int64"
      ]
     },
     "execution_count": 30,
     "metadata": {},
     "output_type": "execute_result"
    }
   ],
   "source": [
    "income_group.groupby('inc_cat_80120')['FIPS'].count()"
   ]
  },
  {
   "cell_type": "markdown",
   "metadata": {},
   "source": [
    "###### Drop prop_XXXX columns"
   ]
  },
  {
   "cell_type": "code",
   "execution_count": 31,
   "metadata": {},
   "outputs": [
    {
     "name": "stdout",
     "output_type": "stream",
     "text": [
      "['prop_10000', 'prop_15000', 'prop_20000', 'prop_25000', 'prop_30000', 'prop_35000', 'prop_40000', 'prop_45000', 'prop_50000', 'prop_60000', 'prop_75000', 'prop_100000', 'prop_125000', 'prop_150000', 'prop_200000']\n"
     ]
    },
    {
     "data": {
      "text/plain": [
       "Index(['FIPS', 'NAME', 'QName', 'NATION', 'STATE', 'COUNTY', 'CT',\n",
       "       'denominator_00', 'I_10000', 'I_15000', 'I_20000', 'I_25000', 'I_30000',\n",
       "       'I_35000', 'I_40000', 'I_45000', 'I_50000', 'I_60000', 'I_75000',\n",
       "       'I_100000', 'I_125000', 'I_150000', 'I_200000', 'I_201',\n",
       "       'countymedian_income00', 'med_inc', 'inc80_cumulative', 'inc80_00',\n",
       "       'inc120_cumulative', 'inc120_00', 'low_80120_00', 'mod_80120_00',\n",
       "       'high_80120_00', 'validsample', 'low_pdmt_80120', 'high_pdmt_80120',\n",
       "       'mod_pdmt_80120', 'mix_low_80120', 'mix_mod_80120', 'mix_high_80120',\n",
       "       'mix_l_m_80120', 'mix_m_h_80120', 'mix_l_h_80120', 'mix_uni_80120',\n",
       "       'inc_cat_80120'],\n",
       "      dtype='object')"
      ]
     },
     "execution_count": 31,
     "metadata": {},
     "output_type": "execute_result"
    }
   ],
   "source": [
    "### percent of HH in each income category\n",
    "number = ['10000', '15000', '20000', '25000', '30000', '35000', '40000', '45000', '50000', '60000', '75000',\n",
    "          '100000', '125000', '150000', '200000']\n",
    "column = list()\n",
    "for i in number:\n",
    "    column.append('prop_'+i)\n",
    "print(column)\n",
    "\n",
    "income_group = income_group.drop(columns = column)\n",
    "income_group.columns"
   ]
  },
  {
   "cell_type": "markdown",
   "metadata": {},
   "source": [
    "##### New Methodology"
   ]
  },
  {
   "cell_type": "code",
   "execution_count": 32,
   "metadata": {},
   "outputs": [
    {
     "name": "stderr",
     "output_type": "stream",
     "text": [
      "C:\\Users\\Gaby\\Anaconda3\\lib\\site-packages\\ipykernel_launcher.py:8: SettingWithCopyWarning: \n",
      "A value is trying to be set on a copy of a slice from a DataFrame\n",
      "\n",
      "See the caveats in the documentation: http://pandas.pydata.org/pandas-docs/stable/indexing.html#indexing-view-versus-copy\n",
      "  \n",
      "C:\\Users\\Gaby\\Anaconda3\\lib\\site-packages\\ipykernel_launcher.py:12: SettingWithCopyWarning: \n",
      "A value is trying to be set on a copy of a slice from a DataFrame\n",
      "\n",
      "See the caveats in the documentation: http://pandas.pydata.org/pandas-docs/stable/indexing.html#indexing-view-versus-copy\n",
      "  if sys.path[0] == '':\n",
      "C:\\Users\\Gaby\\Anaconda3\\lib\\site-packages\\ipykernel_launcher.py:16: SettingWithCopyWarning: \n",
      "A value is trying to be set on a copy of a slice from a DataFrame\n",
      "\n",
      "See the caveats in the documentation: http://pandas.pydata.org/pandas-docs/stable/indexing.html#indexing-view-versus-copy\n",
      "  app.launch_new_instance()\n",
      "C:\\Users\\Gaby\\Anaconda3\\lib\\site-packages\\ipykernel_launcher.py:23: SettingWithCopyWarning: \n",
      "A value is trying to be set on a copy of a slice from a DataFrame\n",
      "\n",
      "See the caveats in the documentation: http://pandas.pydata.org/pandas-docs/stable/indexing.html#indexing-view-versus-copy\n",
      "C:\\Users\\Gaby\\Anaconda3\\lib\\site-packages\\ipykernel_launcher.py:31: SettingWithCopyWarning: \n",
      "A value is trying to be set on a copy of a slice from a DataFrame\n",
      "\n",
      "See the caveats in the documentation: http://pandas.pydata.org/pandas-docs/stable/indexing.html#indexing-view-versus-copy\n",
      "C:\\Users\\Gaby\\Anaconda3\\lib\\site-packages\\ipykernel_launcher.py:38: SettingWithCopyWarning: \n",
      "A value is trying to be set on a copy of a slice from a DataFrame\n",
      "\n",
      "See the caveats in the documentation: http://pandas.pydata.org/pandas-docs/stable/indexing.html#indexing-view-versus-copy\n"
     ]
    }
   ],
   "source": [
    "### New methodology (on 80/120) where we use 55%+ to define predominantly low/predominantly mod/predominantly high;\n",
    "### then if % is no greater than X, define category based on median hh income\n",
    "\n",
    "df = income_group\n",
    "\n",
    "### Low income\n",
    "df['low_pdmt_55cut_80120_medhhinc'] = np.where((df['low_80120_00']>=0.55)&(df['mod_80120_00']<0.45)&(df['high_80120_00']<0.45),1,0)\n",
    "df['low_pdmt_55cut_80120_medhhinc'][df['validsample']==0] = 0\n",
    "\n",
    "## High income\n",
    "df['high_pdmt_55cut_80120_medhhinc'] = np.where((df['low_80120_00']<0.45)&(df['mod_80120_00']<0.45)&(df['high_80120_00']>=0.55),1,0)\n",
    "df['high_pdmt_55cut_80120_medhhinc'][df['validsample']==0] = 0\n",
    "\n",
    "### Moderate income\n",
    "df['mod_pdmt_55cut_80120_medhhinc'] = np.where((df['low_80120_00']<0.45)&(df['mod_80120_00']>=0.55)&(df['high_80120_00']<0.45),1,0)\n",
    "df['mod_pdmt_55cut_80120_medhhinc'][df['validsample']==0] = 0\n",
    "\n",
    "### Mixed-Low income\n",
    "df['mix_low_55cut_80120_medhhinc'] = np.where((df['low_pdmt_55cut_80120_medhhinc']==0)&\n",
    "                                              (df['mod_pdmt_55cut_80120_medhhinc']==0)&\n",
    "                                              (df['high_pdmt_55cut_80120_medhhinc']==0)&\n",
    "                                              (df['med_inc']<reg_med_inc80_00),1,0)\n",
    "df['mix_low_55cut_80120_medhhinc'][df['validsample']==0] = 0\n",
    "\n",
    "### Mixed-Moderate income\n",
    "df['mix_mod_55cut_80120_medhhinc'] = np.where((df['low_pdmt_55cut_80120_medhhinc']==0)&\n",
    "                                              (df['mod_pdmt_55cut_80120_medhhinc']==0)&\n",
    "                                              (df['high_pdmt_55cut_80120_medhhinc']==0)&\n",
    "                                              (df['med_inc']>=reg_med_inc80_00)&\n",
    "                                              (df['med_inc']<reg_med_inc120_00),1,0)\n",
    "df['mix_mod_55cut_80120_medhhinc'][df['validsample']==0] = 0\n",
    "\n",
    "### Mixed-High income\n",
    "df['mix_high_55cut_80120_medhhinc'] = np.where((df['low_pdmt_55cut_80120_medhhinc']==0)&\n",
    "                                              (df['mod_pdmt_55cut_80120_medhhinc']==0)&\n",
    "                                              (df['high_pdmt_55cut_80120_medhhinc']==0)&\n",
    "                                              (df['med_inc']>=reg_med_inc120_00),1,0)\n",
    "df['mix_high_55cut_80120_medhhinc'][df['validsample']==0] = 0"
   ]
  },
  {
   "cell_type": "markdown",
   "metadata": {},
   "source": [
    "###### Compute income categories"
   ]
  },
  {
   "cell_type": "code",
   "execution_count": 33,
   "metadata": {},
   "outputs": [],
   "source": [
    "income_group['low_pdmt_55cut_80120_medhhinc'] = 0\n",
    "income_group.loc[income_group['low_pdmt_55cut_80120_medhhinc']==1, 'inc_cat_55cut_80120_medhhinc'] = 1\n",
    "income_group.loc[income_group['mix_low_55cut_80120_medhhinc']==1, 'inc_cat_55cut_80120_medhhinc'] = 2\n",
    "income_group.loc[income_group['mod_pdmt_55cut_80120_medhhinc']==1, 'inc_cat_55cut_80120_medhhinc'] = 3\n",
    "income_group.loc[income_group['mix_mod_55cut_80120_medhhinc']==1, 'inc_cat_55cut_80120_medhhinc'] = 4\n",
    "income_group.loc[income_group['mix_high_55cut_80120_medhhinc']==1, 'inc_cat_55cut_80120_medhhinc'] = 5\n",
    "income_group.loc[income_group['high_pdmt_55cut_80120_medhhinc']==1, 'inc_cat_55cut_80120_medhhinc'] = 6\n",
    "income_group.loc[income_group['validsample']==0, 'inc_cat_80120'] = ''"
   ]
  },
  {
   "cell_type": "code",
   "execution_count": 34,
   "metadata": {},
   "outputs": [
    {
     "data": {
      "text/plain": [
       "inc_cat_55cut_80120_medhhinc\n",
       "2.0    263\n",
       "4.0    493\n",
       "5.0    143\n",
       "6.0    905\n",
       "Name: FIPS, dtype: int64"
      ]
     },
     "execution_count": 34,
     "metadata": {},
     "output_type": "execute_result"
    }
   ],
   "source": [
    "income_group.groupby('inc_cat_55cut_80120_medhhinc')['FIPS'].count()"
   ]
  },
  {
   "cell_type": "markdown",
   "metadata": {},
   "source": [
    "###### Merge with master file"
   ]
  },
  {
   "cell_type": "code",
   "execution_count": 35,
   "metadata": {},
   "outputs": [
    {
     "name": "stdout",
     "output_type": "stream",
     "text": [
      "['17031', '17043', '17089', '17093', '17097', '17111', '17197']\n",
      "42917 51500.4 34333.6\n"
     ]
    }
   ],
   "source": [
    "### Keep only records for the census tracts defined in FIPS variable\n",
    "income_group['FIPS_temp']=income_group['FIPS'].str[0:5]\n",
    "str_FIPS=[str(i) for i in FIPS]\n",
    "print(str_FIPS)\n",
    "income_group = income_group[income_group['FIPS_temp'].isin(str_FIPS)].reset_index(drop=True)\n",
    "income_group = income_group.drop(columns='FIPS_temp')\n",
    "\n",
    "### Keep only relevant columns\n",
    "income_group = income_group.drop(columns = ['NAME', 'QName', 'NATION', 'STATE', 'COUNTY', 'CT', 'denominator_00',\n",
    "                                             'I_10000', 'I_15000', 'I_20000', 'I_25000', 'I_30000', 'I_35000',\n",
    "                                             'I_40000', 'I_45000', 'I_50000', 'I_60000', 'I_75000', 'I_100000',\n",
    "                                             'I_125000', 'I_150000', 'I_200000', 'I_201','countymedian_income00',\n",
    "                                             'med_inc', 'inc80_cumulative', 'inc80_00', 'inc120_cumulative', 'inc120_00'])\n",
    "\n",
    "### Rename to differentiate from 2017 data loaded in neigh_income file\n",
    "income_group = income_group.rename(columns = {'low_pdmt_80120':'low_pdmt_80120_00',\n",
    "                                                'high_pdmt_80120':'high_pdmt_80120_00',\n",
    "                                                'mod_pdmt_80120':'mod_pdmt_80120_00',\n",
    "                                                'inc_cat_55cut_80120_medhhinc':'inc_cat_55cut_80120_medhhinc_00',\n",
    "                                                'mix_mod_55cut_80120_medhhinc':'mix_mod_55cut_80120_medhhinc_00',\n",
    "                                                'mix_low_55cut_80120_medhhinc':'mix_low_55cut_80120_medhhinc_00',\n",
    "                                                'mix_high_55cut_80120_medhhinc':'mix_high_55cut_80120_medhhinc_00',\n",
    "                                                'mod_pdmt_55cut_80120_medhhinc':'mod_pdmt_55cut_80120_medhhinc_00',\n",
    "                                                'high_pdmt_55cut_80120_medhhinc':'high_pdmt_55cut_80120_00',\n",
    "                                                'low_pdmt_55cut_80120_medhhinc':'low_pdmt_55cut_80120_medhhinc_00',\n",
    "                                                'inc_cat_80120':'inc_cat_80120_00',\n",
    "                                                'mix_low_80120':'mix_low_80120_00',\n",
    "                                                'mix_mod_80120':'mix_mod_80120_00',\n",
    "                                                'mix_high_80120':'mix_high_80120_00',\n",
    "                                                'mix_l_m_80120':'mix_l_m_80120_00',\n",
    "                                                'mix_l_h_80120':'mix_l_h_80120_00',\n",
    "                                                'mix_m_h_80120':'mix_m_h_80120_00',\n",
    "                                                'mix_uni_80120':'mix_uni_80120_00'})\n",
    "\n",
    "### Merge files\n",
    "city_shp = city_shp.merge(income_group, on = 'FIPS', how = 'left')\n",
    "print(reg_med_inc_00, reg_med_inc120_00, reg_med_inc80_00)"
   ]
  },
  {
   "cell_type": "code",
   "execution_count": 36,
   "metadata": {},
   "outputs": [
    {
     "data": {
      "text/plain": [
       "Index(['FIPS', 'low_80120_00', 'mod_80120_00', 'high_80120_00', 'validsample',\n",
       "       'low_pdmt_80120_00', 'high_pdmt_80120_00', 'mod_pdmt_80120_00',\n",
       "       'mix_low_80120_00', 'mix_mod_80120_00', 'mix_high_80120_00',\n",
       "       'mix_l_m_80120_00', 'mix_m_h_80120_00', 'mix_l_h_80120_00',\n",
       "       'mix_uni_80120_00', 'inc_cat_80120_00',\n",
       "       'low_pdmt_55cut_80120_medhhinc_00', 'high_pdmt_55cut_80120_00',\n",
       "       'mod_pdmt_55cut_80120_medhhinc_00', 'mix_low_55cut_80120_medhhinc_00',\n",
       "       'mix_mod_55cut_80120_medhhinc_00', 'mix_high_55cut_80120_medhhinc_00',\n",
       "       'inc_cat_55cut_80120_medhhinc_00'],\n",
       "      dtype='object')"
      ]
     },
     "execution_count": 36,
     "metadata": {},
     "output_type": "execute_result"
    }
   ],
   "source": [
    "income_group.columns"
   ]
  },
  {
   "cell_type": "code",
   "execution_count": 37,
   "metadata": {},
   "outputs": [
    {
     "data": {
      "text/plain": [
       "inc_cat_80120_00\n",
       "1     371\n",
       "2     125\n",
       "3       1\n",
       "4     326\n",
       "5      21\n",
       "8       1\n",
       "9     184\n",
       "10    954\n",
       "Name: FIPS, dtype: int64"
      ]
     },
     "execution_count": 37,
     "metadata": {},
     "output_type": "execute_result"
    }
   ],
   "source": [
    "city_shp.groupby('inc_cat_80120_00').count()['FIPS']"
   ]
  },
  {
   "cell_type": "code",
   "execution_count": 38,
   "metadata": {},
   "outputs": [
    {
     "data": {
      "text/plain": [
       "inc_cat_55cut_80120_medhhinc_00\n",
       "2.0    263\n",
       "4.0    493\n",
       "5.0    143\n",
       "6.0    802\n",
       "Name: FIPS, dtype: int64"
      ]
     },
     "execution_count": 38,
     "metadata": {},
     "output_type": "execute_result"
    }
   ],
   "source": [
    "city_shp.groupby('inc_cat_55cut_80120_medhhinc_00').count()['FIPS']"
   ]
  },
  {
   "cell_type": "code",
   "execution_count": 39,
   "metadata": {},
   "outputs": [
    {
     "data": {
      "text/plain": [
       "inc_cat_55cut_80120_medhhinc\n",
       "1.0    525\n",
       "2.0    147\n",
       "4.0    589\n",
       "5.0    146\n",
       "6.0    570\n",
       "Name: FIPS, dtype: int64"
      ]
     },
     "execution_count": 39,
     "metadata": {},
     "output_type": "execute_result"
    }
   ],
   "source": [
    "city_shp.groupby('inc_cat_55cut_80120_medhhinc').count()['FIPS']"
   ]
  },
  {
   "cell_type": "code",
   "execution_count": 41,
   "metadata": {},
   "outputs": [
    {
     "name": "stdout",
     "output_type": "stream",
     "text": [
      "ORIGINAL METHODOLOGY - 2000 CATEGORIES\n"
     ]
    },
    {
     "data": {
      "image/png": "[encoded data removed]",
      "text/plain": [
       "<Figure size 432x288 with 2 Axes>"
      ]
     },
     "metadata": {},
     "output_type": "display_data"
    },
    {
     "name": "stdout",
     "output_type": "stream",
     "text": [
      "There are 0 NaN census tracts\n"
     ]
    }
   ],
   "source": [
    "print('ORIGINAL METHODOLOGY - 2000 CATEGORIES')\n",
    "ax = city_shp.plot(color = 'grey')\n",
    "city_shp[~city_shp['inc_cat_80120_00'].isna()].plot(ax = ax, column = 'inc_cat_80120_00', legend = True)\n",
    "plt.show()\n",
    "print('There are',city_shp['inc_cat_80120_00'].isna().sum(), 'NaN census tracts')"
   ]
  },
  {
   "cell_type": "code",
   "execution_count": 42,
   "metadata": {},
   "outputs": [
    {
     "name": "stdout",
     "output_type": "stream",
     "text": [
      "NEW METHODOLOGY - 2000 CATEGORIES\n"
     ]
    },
    {
     "data": {
      "image/png": "[encoded data removed]",
      "text/plain": [
       "<Figure size 432x288 with 2 Axes>"
      ]
     },
     "metadata": {},
     "output_type": "display_data"
    },
    {
     "name": "stdout",
     "output_type": "stream",
     "text": [
      "There are 282 NaN census tracts\n"
     ]
    }
   ],
   "source": [
    "print('NEW METHODOLOGY - 2000 CATEGORIES')\n",
    "ax = city_shp.plot(color = 'grey')\n",
    "city_shp[~city_shp['inc_cat_55cut_80120_medhhinc_00'].isna()].plot(ax = ax, column = 'inc_cat_55cut_80120_medhhinc_00', legend = True)\n",
    "plt.show()\n",
    "print('There are',city_shp['inc_cat_55cut_80120_medhhinc_00'].isna().sum(), 'NaN census tracts')"
   ]
  },
  {
   "cell_type": "code",
   "execution_count": 43,
   "metadata": {},
   "outputs": [
    {
     "name": "stdout",
     "output_type": "stream",
     "text": [
      "NEW METHODOLOGY - 2017 CATEGORIES\n"
     ]
    },
    {
     "data": {
      "image/png": "[encoded data removed]",
      "text/plain": [
       "<Figure size 432x288 with 2 Axes>"
      ]
     },
     "metadata": {},
     "output_type": "display_data"
    },
    {
     "name": "stdout",
     "output_type": "stream",
     "text": [
      "There are 6 NaN census tracts\n"
     ]
    }
   ],
   "source": [
    "print('NEW METHODOLOGY - 2017 CATEGORIES')\n",
    "ax = city_shp.plot(color = 'grey')\n",
    "city_shp[~city_shp['inc_cat_55cut_80120_medhhinc'].isna()].plot(ax = ax, column = 'inc_cat_55cut_80120_medhhinc', legend = True)\n",
    "plt.show()\n",
    "print('There are',city_shp['inc_cat_55cut_80120_medhhinc'].isna().sum(), 'NaN census tracts')"
   ]
  }
 ],
 "metadata": {
  "kernelspec": {
   "display_name": "Python 3",
   "language": "python",
   "name": "python3"
  },
  "language_info": {
   "codemirror_mode": {
    "name": "ipython",
    "version": 3
   },
   "file_extension": ".py",
   "mimetype": "text/x-python",
   "name": "python",
   "nbconvert_exporter": "python",
   "pygments_lexer": "ipython3",
   "version": "3.6.5"
  }
 },
 "nbformat": 4,
 "nbformat_minor": 2
}
