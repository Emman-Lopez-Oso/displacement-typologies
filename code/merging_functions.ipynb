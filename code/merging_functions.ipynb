{
 "cells": [
  {
   "cell_type": "code",
   "execution_count": 6,
   "metadata": {},
   "outputs": [],
   "source": [
    "import numpy as np\n",
    "\n",
    "def trtid10_to_FIPS (dataframe):\n",
    "    \n",
    "    ### renames trtid10 to FIPS\n",
    "    new_dataframe = dataframe.rename(columns = {'trtid10':'FIPS'})\n",
    "    ### formats the FIPS code into a 12 digit str\n",
    "    new_dataframe['FIPS'] = new_dataframe['FIPS'].apply(np.int).apply(lambda x: '{0:0>12}'.format(x)) \n",
    "    \n",
    "    return new_dataframe"
   ]
  },
  {
   "cell_type": "code",
   "execution_count": null,
   "metadata": {},
   "outputs": [],
   "source": []
  }
 ],
 "metadata": {
  "kernelspec": {
   "display_name": "Python 3",
   "language": "python",
   "name": "python3"
  },
  "language_info": {
   "codemirror_mode": {
    "name": "ipython",
    "version": 3
   },
   "file_extension": ".py",
   "mimetype": "text/x-python",
   "name": "python",
   "nbconvert_exporter": "python",
   "pygments_lexer": "ipython3",
   "version": "3.6.5"
  }
 },
 "nbformat": 4,
 "nbformat_minor": 2
}
